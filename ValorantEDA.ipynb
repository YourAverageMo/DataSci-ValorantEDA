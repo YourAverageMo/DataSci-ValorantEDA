{
 "cells": [
  {
   "attachments": {},
   "cell_type": "markdown",
   "metadata": {},
   "source": [
    "# ~~Valorant EDA Pros vs In-Game LeaderBoard~~\n",
    "# Valorant EDA Data Cleaning"
   ]
  },
  {
   "attachments": {},
   "cell_type": "markdown",
   "metadata": {},
   "source": [
    "### Imports and DataSet Definitions"
   ]
  },
  {
   "cell_type": "code",
   "execution_count": 170,
   "metadata": {},
   "outputs": [],
   "source": [
    "import pandas as pd"
   ]
  },
  {
   "cell_type": "code",
   "execution_count": 184,
   "metadata": {},
   "outputs": [],
   "source": [
    "df_champs22:pd.DataFrame = pd.read_pickle(\"./data/df_champs22_clean\")\n",
    "df_leaderboards:pd.DataFrame = pd.read_pickle(\"./data/df_leaderboards_clean\")\n",
    "df_pros_all_time:pd.DataFrame = pd.read_pickle(\"./data/df_pros_all_time_clean\")"
   ]
  },
  {
   "cell_type": "code",
   "execution_count": null,
   "metadata": {},
   "outputs": [],
   "source": []
  }
 ],
 "metadata": {
  "language_info": {
   "name": "python"
  },
  "orig_nbformat": 4
 },
 "nbformat": 4,
 "nbformat_minor": 2
}
