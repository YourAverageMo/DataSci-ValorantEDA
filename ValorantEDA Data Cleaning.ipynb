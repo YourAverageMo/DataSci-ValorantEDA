{
 "cells": [
  {
   "attachments": {},
   "cell_type": "markdown",
   "metadata": {},
   "source": [
    "# ~~Valorant EDA Pros vs In-Game LeaderBoard~~\n",
    "# Valorant EDA Data Cleaning"
   ]
  },
  {
   "attachments": {},
   "cell_type": "markdown",
   "metadata": {},
   "source": [
    "### Imports and DataSet Definitions"
   ]
  },
  {
   "cell_type": "code",
   "execution_count": 161,
   "metadata": {},
   "outputs": [],
   "source": [
    "import pandas as pd\n",
    "from get_data import fetch_data"
   ]
  },
  {
   "attachments": {},
   "cell_type": "markdown",
   "metadata": {},
   "source": [
    "use fetch_data to retrieve up to date data from vlr.gg\n",
    "\n",
    "notes:\n",
    "- pros_all_time and champs22 was collected on Feb 1, 2023\n",
    "- leaderboard was collected at the end of Epidode 4: Act 3. roughly 1 year older than above datasets\n",
    "- the reason for this is that riot (creators of valorant) are very strict about player stat data. hard to access.\n",
    "- url for vlr: https://www.vlr.gg/stats\n",
    "- vlr columns: r = rating, acs = average combat score, K:D kill death ratio, KAST = kills assists trade survive %, ADR = average damage per round, KPR = kills per round, APR = assist per round, FKPR = first kill per round, FDPR = first death per round, HS% = head shot percentage, CL% = clutch success percentage, KMax = max kill in single map, k,d,a,fk,fd = total kills,deaths,assists,first kills, first death in that order\n"
   ]
  },
  {
   "cell_type": "code",
   "execution_count": 162,
   "metadata": {},
   "outputs": [],
   "source": [
    "# fetch_data(\"https://www.vlr.gg/stats/?event_group_id=all&event_id=all&region=all&country=all&min_rounds=200&min_rating=1550&agent=all&map_id=all&timespan=all\",\"pros_all_time\")"
   ]
  },
  {
   "cell_type": "code",
   "execution_count": 163,
   "metadata": {},
   "outputs": [
    {
     "name": "stderr",
     "output_type": "stream",
     "text": [
      "/var/folders/c3/5pdm4hrd4tdc_6s74qn93l8m0000gn/T/ipykernel_56836/4103724099.py:8: DtypeWarning: Columns (10) have mixed types. Specify dtype option on import or set low_memory=False.\n",
      "  df_leaderboards: pd.DataFrame = pd.read_csv(\"./data/leaderboards.csv\",\n"
     ]
    }
   ],
   "source": [
    "na_values = [\n",
    "    \"\", \"#N/A\", \"#N/A N/A\", \"#NA\", \"-1.#IND\", \"-1.#QNAN\", \"-NaN\", \"-nan\",\n",
    "    \"1.#IND\", \"1.#QNAN\", \"<NA>\", \"N/A\", \"NULL\", \"NaN\", \"n/a\", \"nan\", \"null\"\n",
    "]\n",
    "df_pros_all_time: pd.DataFrame = pd.read_pickle(\"./data/pros_all_time\")\n",
    "df_champs22: pd.DataFrame = pd.read_pickle(\"./data/champs22\")\n",
    "# leaderboard column region has entries name \"NA\" which actually means North America so to avoid categorizing them as NAN we must use na_values\n",
    "df_leaderboards: pd.DataFrame = pd.read_csv(\"./data/leaderboards.csv\",\n",
    "                                            na_values=na_values,\n",
    "                                            keep_default_na=False)\n"
   ]
  },
  {
   "cell_type": "code",
   "execution_count": 164,
   "metadata": {},
   "outputs": [
    {
     "data": {
      "text/html": [
       "<div>\n",
       "<style scoped>\n",
       "    .dataframe tbody tr th:only-of-type {\n",
       "        vertical-align: middle;\n",
       "    }\n",
       "\n",
       "    .dataframe tbody tr th {\n",
       "        vertical-align: top;\n",
       "    }\n",
       "\n",
       "    .dataframe thead th {\n",
       "        text-align: right;\n",
       "    }\n",
       "</style>\n",
       "<table border=\"1\" class=\"dataframe\">\n",
       "  <thead>\n",
       "    <tr style=\"text-align: right;\">\n",
       "      <th></th>\n",
       "      <th>Player</th>\n",
       "      <th>Agents</th>\n",
       "      <th>Rnd</th>\n",
       "      <th>R</th>\n",
       "      <th>ACS</th>\n",
       "      <th>K:D</th>\n",
       "      <th>KAST</th>\n",
       "      <th>ADR</th>\n",
       "      <th>KPR</th>\n",
       "      <th>APR</th>\n",
       "      <th>FKPR</th>\n",
       "      <th>FDPR</th>\n",
       "      <th>HS%</th>\n",
       "      <th>CL%</th>\n",
       "      <th>CL</th>\n",
       "      <th>KMax</th>\n",
       "      <th>K</th>\n",
       "      <th>D</th>\n",
       "      <th>A</th>\n",
       "      <th>FK</th>\n",
       "      <th>FD</th>\n",
       "    </tr>\n",
       "  </thead>\n",
       "  <tbody>\n",
       "    <tr>\n",
       "      <th>3283</th>\n",
       "      <td>KugelMitSahne</td>\n",
       "      <td>NaN</td>\n",
       "      <td>237</td>\n",
       "      <td>0.82</td>\n",
       "      <td>184.3</td>\n",
       "      <td>0.74</td>\n",
       "      <td>61%</td>\n",
       "      <td>122.1</td>\n",
       "      <td>0.59</td>\n",
       "      <td>0.26</td>\n",
       "      <td>0.09</td>\n",
       "      <td>0.1</td>\n",
       "      <td>22%</td>\n",
       "      <td>20%</td>\n",
       "      <td>6/30</td>\n",
       "      <td>17</td>\n",
       "      <td>140</td>\n",
       "      <td>190</td>\n",
       "      <td>61</td>\n",
       "      <td>22</td>\n",
       "      <td>23</td>\n",
       "    </tr>\n",
       "  </tbody>\n",
       "</table>\n",
       "</div>"
      ],
      "text/plain": [
       "             Player Agents  Rnd     R    ACS   K:D KAST    ADR   KPR   APR  \\\n",
       "3283  KugelMitSahne    NaN  237  0.82  184.3  0.74  61%  122.1  0.59  0.26   \n",
       "\n",
       "      FKPR  FDPR  HS%  CL%    CL  KMax    K    D   A  FK  FD  \n",
       "3283  0.09   0.1  22%  20%  6/30    17  140  190  61  22  23  "
      ]
     },
     "execution_count": 164,
     "metadata": {},
     "output_type": "execute_result"
    }
   ],
   "source": [
    "df_pros_all_time.sample()"
   ]
  },
  {
   "attachments": {},
   "cell_type": "markdown",
   "metadata": {},
   "source": [
    "### Cleaning Up Data\n",
    "goes without saying all this data gathered from different parts of the web is extremely messy. dtypes were all over the place, column names needed to be matched, a bunch of other stuff. so a lot of cleanup was necessary. per usual i found these bits and pieces of mess one by one, so the code could be written much more effiecently. i just added things as i sifted through the data. to at least make it somewhat organized i put all the cleaning procedures in this one cell below."
   ]
  },
  {
   "cell_type": "code",
   "execution_count": 165,
   "metadata": {},
   "outputs": [],
   "source": [
    "pd.set_option('display.max_columns', None)\n",
    "column_renames = {\n",
    "    \"rating\": \"Rank\",\n",
    "    \"damage_round\": \"ADR\",\n",
    "    \"headshot_percent\": \"HS_pct\",\n",
    "    \"first_bloods\": \"FK\",\n",
    "    \"kills\": \"K\",\n",
    "    \"deaths\": \"D\",\n",
    "    \"assists\": \"A\",\n",
    "    \"kd_ratio\": \"K:D\",\n",
    "    \"kills_round\": \"KPR\",\n",
    "    \"most_kills\": \"KMax\",\n",
    "    \"score_round\": \"ACS\",\n",
    "    \"win_percent\": \"Win_pct\",\n",
    "    \"HS%\": \"HS_pct\",\n",
    "    \"CL%\": \"CL_pct\",\n",
    "    \"player\": \"name\",\n",
    "}\n",
    "dfs = [df_pros_all_time, df_leaderboards, df_champs22]\n",
    "for dataframe in dfs:\n",
    "    # fixing column names\n",
    "    dataframe.rename(columns=column_renames,inplace=True)\n",
    "    dataframe.columns = dataframe.columns.str.lower()\n",
    "    # dups\n",
    "    dataframe.drop_duplicates(inplace=True)\n",
    "    \n",
    "#NaN's\n",
    "df_champs22.drop(columns=[\"agents\",\"cl\"],inplace=True)\n",
    "df_champs22.fillna(0,inplace=True)  \n",
    "df_pros_all_time.drop(columns=[\"agents\",\"cl\"],inplace=True)\n",
    "df_pros_all_time.fillna(0,inplace=True)  \n",
    "df_leaderboards.drop(columns=\"fk\",inplace=True)\n",
    "df_leaderboards.fillna(\"none\", inplace=True)\n",
    "\n",
    "# parsing\n",
    "parse_vtr_cols = [\"kast\",\"hs_pct\",\"cl_pct\"]\n",
    "for col in parse_vtr_cols:\n",
    "    df_champs22[col] = df_champs22[col].str.replace(\"%\", \"\")\n",
    "    df_champs22[col] = pd.to_numeric(df_champs22[col])\n",
    "\n",
    "    df_pros_all_time[col] = df_pros_all_time[col].str.replace(\"%\", \"\")\n",
    "    df_pros_all_time[col] = pd.to_numeric(df_pros_all_time[col])\n",
    "\n",
    "categoricals = [\"region\", \"rank\",\"agent_1\",\"agent_2\",\"agent_3\",\"gun1_name\",\"gun2_name\",\"gun3_name\"]\n",
    "for col in categoricals:\n",
    "    df_leaderboards[col] = df_leaderboards[col].astype(\"category\")\n",
    "    \n",
    "numerical = [\"headshots\",\"k\",\"d\",\"a\",\"gun1_kills\",\"gun2_kills\"]\n",
    "for col in numerical:\n",
    "    df_leaderboards[col] = df_leaderboards[col].str.replace(\",\", \"\")\n",
    "    df_leaderboards[col] = pd.to_numeric(df_leaderboards[col])\n",
    "    \n",
    "# theres another way to do the same thing as above. came to me later...\n",
    "# df_leaderboards[numerical] = df_leaderboards[numerical].apply(pd.to_numeric)\n"
   ]
  },
  {
   "cell_type": "code",
   "execution_count": 166,
   "metadata": {},
   "outputs": [
    {
     "data": {
      "text/plain": [
       "region        0\n",
       "name          0\n",
       "tag           0\n",
       "rank          0\n",
       "adr           0\n",
       "headshots     0\n",
       "hs_pct        0\n",
       "aces          0\n",
       "clutches      0\n",
       "flawless      0\n",
       "k             0\n",
       "d             0\n",
       "a             0\n",
       "k:d           0\n",
       "kpr           0\n",
       "kmax          0\n",
       "acs           0\n",
       "wins          0\n",
       "win_pct       0\n",
       "agent_1       0\n",
       "agent_2       0\n",
       "agent_3       0\n",
       "gun1_name     0\n",
       "gun1_head     0\n",
       "gun1_body     0\n",
       "gun1_legs     0\n",
       "gun1_kills    0\n",
       "gun2_name     0\n",
       "gun2_head     0\n",
       "gun2_body     0\n",
       "gun2_legs     0\n",
       "gun2_kills    0\n",
       "gun3_name     0\n",
       "gun3_head     0\n",
       "gun3_body     0\n",
       "gun3_legs     0\n",
       "gun3_kills    0\n",
       "dtype: int64"
      ]
     },
     "execution_count": 166,
     "metadata": {},
     "output_type": "execute_result"
    }
   ],
   "source": [
    "df_leaderboards.isna().sum()"
   ]
  },
  {
   "cell_type": "code",
   "execution_count": 167,
   "metadata": {},
   "outputs": [
    {
     "data": {
      "text/plain": [
       "region        category\n",
       "name            object\n",
       "tag             object\n",
       "rank          category\n",
       "adr            float64\n",
       "headshots        int64\n",
       "hs_pct         float64\n",
       "aces             int64\n",
       "clutches         int64\n",
       "flawless         int64\n",
       "k                int64\n",
       "d                int64\n",
       "a                int64\n",
       "k:d            float64\n",
       "kpr            float64\n",
       "kmax             int64\n",
       "acs            float64\n",
       "wins             int64\n",
       "win_pct        float64\n",
       "agent_1       category\n",
       "agent_2       category\n",
       "agent_3       category\n",
       "gun1_name     category\n",
       "gun1_head        int64\n",
       "gun1_body        int64\n",
       "gun1_legs        int64\n",
       "gun1_kills       int64\n",
       "gun2_name     category\n",
       "gun2_head        int64\n",
       "gun2_body        int64\n",
       "gun2_legs        int64\n",
       "gun2_kills       int64\n",
       "gun3_name     category\n",
       "gun3_head        int64\n",
       "gun3_body        int64\n",
       "gun3_legs        int64\n",
       "gun3_kills       int64\n",
       "dtype: object"
      ]
     },
     "execution_count": 167,
     "metadata": {},
     "output_type": "execute_result"
    }
   ],
   "source": [
    "df_leaderboards.dtypes"
   ]
  },
  {
   "attachments": {},
   "cell_type": "markdown",
   "metadata": {},
   "source": [
    "### Saving to new pickle\n",
    "after all that cleaning im going to just save this data and open a new notebook."
   ]
  },
  {
   "cell_type": "code",
   "execution_count": null,
   "metadata": {},
   "outputs": [],
   "source": [
    "pd.to_pickle(df_champs22,\"./data/df_champs22_clean\")\n",
    "pd.to_pickle(df_leaderboards,\"./data/df_leaderboards_clean\")\n",
    "pd.to_pickle(df_pros_all_time,\"./data/df_pros_all_time_clean\")"
   ]
  }
 ],
 "metadata": {
  "kernelspec": {
   "display_name": "Python 3",
   "language": "python",
   "name": "python3"
  },
  "language_info": {
   "codemirror_mode": {
    "name": "ipython",
    "version": 3
   },
   "file_extension": ".py",
   "mimetype": "text/x-python",
   "name": "python",
   "nbconvert_exporter": "python",
   "pygments_lexer": "ipython3",
   "version": "3.11.1 (v3.11.1:a7a450f84a, Dec  6 2022, 15:24:06) [Clang 13.0.0 (clang-1300.0.29.30)]"
  },
  "orig_nbformat": 4,
  "vscode": {
   "interpreter": {
    "hash": "aee8b7b246df8f9039afb4144a1f6fd8d2ca17a180786b69acc140d282b71a49"
   }
  }
 },
 "nbformat": 4,
 "nbformat_minor": 2
}
